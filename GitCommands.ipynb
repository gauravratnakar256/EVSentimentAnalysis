{
 "cells": [
  {
   "cell_type": "code",
   "execution_count": 3,
   "id": "85b6cd05",
   "metadata": {},
   "outputs": [
    {
     "name": "stdout",
     "output_type": "stream",
     "text": [
      "Already up to date.\r\n"
     ]
    }
   ],
   "source": [
    "!git pull"
   ]
  },
  {
   "cell_type": "code",
   "execution_count": 4,
   "id": "6349c140",
   "metadata": {},
   "outputs": [],
   "source": [
    "!git add GitCommands.ipynb"
   ]
  },
  {
   "cell_type": "code",
   "execution_count": null,
   "id": "3babf04a",
   "metadata": {},
   "outputs": [],
   "source": [
    "!git commit -a -m \"Added GitCommands\""
   ]
  }
 ],
 "metadata": {
  "kernelspec": {
   "display_name": "Python 3 (ipykernel)",
   "language": "python",
   "name": "python3"
  },
  "language_info": {
   "codemirror_mode": {
    "name": "ipython",
    "version": 3
   },
   "file_extension": ".py",
   "mimetype": "text/x-python",
   "name": "python",
   "nbconvert_exporter": "python",
   "pygments_lexer": "ipython3",
   "version": "3.8.10"
  }
 },
 "nbformat": 4,
 "nbformat_minor": 5
}
