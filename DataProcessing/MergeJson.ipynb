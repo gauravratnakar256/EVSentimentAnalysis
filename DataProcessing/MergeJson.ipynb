{
 "cells": [
  {
   "cell_type": "code",
   "execution_count": 16,
   "id": "095add90",
   "metadata": {},
   "outputs": [],
   "source": [
    "import shutil\n",
    "\n",
    "outfilename = \"CompleteData.json\"\n",
    "\n",
    "with open(outfilename, 'wb') as outfile:\n",
    "    for filename in glob.glob(r'C:\\Users\\EndUser\\Desktop\\Data\\Merged\\*.json'):\n",
    "        if filename == outfilename:\n",
    "            # don't want to copy the output into the output\n",
    "            continue\n",
    "        with open(filename, 'rb') as readfile:\n",
    "            shutil.copyfileobj(readfile, outfile)"
   ]
  },
  {
   "cell_type": "code",
   "execution_count": null,
   "id": "01d9f76c",
   "metadata": {},
   "outputs": [],
   "source": []
  }
 ],
 "metadata": {
  "kernelspec": {
   "display_name": "Python 3",
   "language": "python",
   "name": "python3"
  },
  "language_info": {
   "codemirror_mode": {
    "name": "ipython",
    "version": 3
   },
   "file_extension": ".py",
   "mimetype": "text/x-python",
   "name": "python",
   "nbconvert_exporter": "python",
   "pygments_lexer": "ipython3",
   "version": "3.6.13"
  }
 },
 "nbformat": 4,
 "nbformat_minor": 5
}
