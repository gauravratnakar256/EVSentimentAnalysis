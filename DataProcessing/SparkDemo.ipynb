{
 "cells": [
  {
   "cell_type": "code",
   "execution_count": 1,
   "id": "c26f5de0",
   "metadata": {},
   "outputs": [
    {
     "name": "stderr",
     "output_type": "stream",
     "text": [
      "WARNING: An illegal reflective access operation has occurred\n",
      "WARNING: Illegal reflective access by org.apache.spark.unsafe.Platform (file:/opt/spark/jars/spark-unsafe_2.12-3.1.2.jar) to constructor java.nio.DirectByteBuffer(long,int)\n",
      "WARNING: Please consider reporting this to the maintainers of org.apache.spark.unsafe.Platform\n",
      "WARNING: Use --illegal-access=warn to enable warnings of further illegal reflective access operations\n",
      "WARNING: All illegal access operations will be denied in a future release\n",
      "21/12/05 06:34:38 WARN NativeCodeLoader: Unable to load native-hadoop library for your platform... using builtin-java classes where applicable\n",
      "Using Spark's default log4j profile: org/apache/spark/log4j-defaults.properties\n",
      "Setting default log level to \"WARN\".\n",
      "To adjust logging level use sc.setLogLevel(newLevel). For SparkR, use setLogLevel(newLevel).\n",
      "                                                                                \r"
     ]
    },
    {
     "name": "stdout",
     "output_type": "stream",
     "text": [
      "3.14150068\n"
     ]
    }
   ],
   "source": [
    "import findspark\n",
    "findspark.init()\n",
    "\n",
    "import pyspark\n",
    "import random\n",
    "\n",
    "sc = pyspark.SparkContext(appName=\"Pi\")\n",
    "num_samples = 100000000\n",
    "\n",
    "def inside(p):     \n",
    "  x, y = random.random(), random.random()\n",
    "  return x*x + y*y < 1\n",
    "\n",
    "count = sc.parallelize(range(0, num_samples)).filter(inside).count()\n",
    "\n",
    "pi = 4 * count / num_samples\n",
    "print(pi)\n",
    "\n",
    "sc.stop()"
   ]
  },
  {
   "cell_type": "code",
   "execution_count": 1,
   "id": "79db8fef",
   "metadata": {},
   "outputs": [
    {
     "name": "stderr",
     "output_type": "stream",
     "text": [
      "WARNING: An illegal reflective access operation has occurred\n",
      "WARNING: Illegal reflective access by org.apache.spark.unsafe.Platform (file:/opt/spark/jars/spark-unsafe_2.12-3.1.2.jar) to constructor java.nio.DirectByteBuffer(long,int)\n",
      "WARNING: Please consider reporting this to the maintainers of org.apache.spark.unsafe.Platform\n",
      "WARNING: Use --illegal-access=warn to enable warnings of further illegal reflective access operations\n",
      "WARNING: All illegal access operations will be denied in a future release\n",
      "21/12/05 08:22:59 WARN NativeCodeLoader: Unable to load native-hadoop library for your platform... using builtin-java classes where applicable\n",
      "Using Spark's default log4j profile: org/apache/spark/log4j-defaults.properties\n",
      "Setting default log level to \"WARN\".\n",
      "To adjust logging level use sc.setLogLevel(newLevel). For SparkR, use setLogLevel(newLevel).\n",
      "                                                                                \r"
     ]
    },
    {
     "data": {
      "text/plain": [
       "'{\"_type\": \"snscrape.modules.twitter.Tweet\", \"url\": \"https://twitter.com/georgiapowerET/status/826550789678186496\", \"date\": \"2017-01-31T22:00:39+00:00\", \"content\": \"New #Tesla Model S 100D version rated at 335 miles of electric range! #EV #DriveElectric \\\\nhttps://t.co/JsJCQYhkrV https://t.co/PgZtfq7EdN\", \"renderedContent\": \"New #Tesla Model S 100D version rated at 335 miles of electric range! #EV #DriveElectric \\\\nbit.ly/2kM4UQR https://t.co/PgZtfq7EdN\", \"id\": 826550789678186496, \"user\": {\"_type\": \"snscrape.modules.twitter.User\", \"username\": \"georgiapowerET\", \"id\": 2833196322, \"displayname\": \"Georgia Power ET\", \"description\": \"Georgia Power has been involved in the Electric Transportation field for 20 years, and now we are bringing our expertise to the foreground.\", \"rawDescription\": \"Georgia Power has been involved in the Electric Transportation field for 20 years, and now we are bringing our expertise to the foreground.\", \"descriptionUrls\": null, \"verified\": false, \"created\": \"2014-09-26T20:01:56+00:00\", \"followersCount\": 3341, \"friendsCount\": 730, \"statusesCount\": 3873, \"favouritesCount\": 1669, \"listedCount\": 41, \"mediaCount\": 2208, \"location\": \"Georgia\", \"protected\": false, \"linkUrl\": \"https://www.georgiapower.com/ev\", \"linkTcourl\": \"https://t.co/oJeqJHC063\", \"profileImageUrl\": \"https://pbs.twimg.com/profile_images/786282298148806656/uWrtrCsh_normal.jpg\", \"profileBannerUrl\": \"https://pbs.twimg.com/profile_banners/2833196322/1488303611\", \"label\": null, \"url\": \"https://twitter.com/georgiapowerET\"}, \"replyCount\": 0, \"retweetCount\": 0, \"likeCount\": 1, \"quoteCount\": 0, \"conversationId\": 826550789678186496, \"lang\": \"en\", \"source\": \"<a href=\\\\\"http://www.hootsuite.com\\\\\" rel=\\\\\"nofollow\\\\\">Hootsuite</a>\", \"sourceUrl\": \"http://www.hootsuite.com\", \"sourceLabel\": \"Hootsuite\", \"outlinks\": [\"http://bit.ly/2kM4UQR\"], \"tcooutlinks\": [\"https://t.co/JsJCQYhkrV\"], \"media\": [{\"_type\": \"snscrape.modules.twitter.Photo\", \"previewUrl\": \"https://pbs.twimg.com/media/C3h_j10WAAA7kgS?format=jpg&name=small\", \"fullUrl\": \"https://pbs.twimg.com/media/C3h_j10WAAA7kgS?format=jpg&name=large\"}], \"retweetedTweet\": null, \"quotedTweet\": null, \"inReplyToTweetId\": null, \"inReplyToUser\": null, \"mentionedUsers\": null, \"coordinates\": null, \"place\": null, \"hashtags\": [\"Tesla\", \"EV\", \"DriveElectric\"], \"cashtags\": null}'"
      ]
     },
     "execution_count": 1,
     "metadata": {},
     "output_type": "execute_result"
    }
   ],
   "source": [
    "import findspark\n",
    "findspark.init()\n",
    "import pyspark\n",
    "\n",
    "from pyspark import SparkContext, SparkConf\n",
    "\n",
    "conf = SparkConf().setAppName(\"myFirstApp\").setMaster(\"local\")\n",
    "sc = SparkContext(conf=conf)\n",
    "\n",
    "textFile = sc.textFile(\"hdfs://localhost:9000/bigdata/data/CompleteData.json\")\n",
    "textFile.first()"
   ]
  },
  {
   "cell_type": "code",
   "execution_count": null,
   "id": "b7fd79ff",
   "metadata": {},
   "outputs": [],
   "source": []
  }
 ],
 "metadata": {
  "kernelspec": {
   "display_name": "Python 3 (ipykernel)",
   "language": "python",
   "name": "python3"
  },
  "language_info": {
   "codemirror_mode": {
    "name": "ipython",
    "version": 3
   },
   "file_extension": ".py",
   "mimetype": "text/x-python",
   "name": "python",
   "nbconvert_exporter": "python",
   "pygments_lexer": "ipython3",
   "version": "3.8.10"
  }
 },
 "nbformat": 4,
 "nbformat_minor": 5
}
