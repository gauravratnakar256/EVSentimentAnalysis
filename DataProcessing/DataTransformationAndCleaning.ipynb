{
 "cells": [
  {
   "cell_type": "code",
   "execution_count": 1,
   "id": "5024be6a",
   "metadata": {},
   "outputs": [],
   "source": [
    "import findspark\n",
    "import pyspark\n",
    "import json\n",
    "import csv\n",
    "from pyspark import SparkContext, SparkConf\n",
    "from pyspark.sql import SparkSession\n",
    "import os\n",
    "import uuid"
   ]
  },
  {
   "cell_type": "code",
   "execution_count": 2,
   "id": "504ba27d",
   "metadata": {},
   "outputs": [
    {
     "name": "stderr",
     "output_type": "stream",
     "text": [
      "C:\\Users\\abhis\\miniconda3\\envs\\spatial\\lib\\site-packages\\pyspark\\context.py:238: FutureWarning: Python 3.6 support is deprecated in Spark 3.2.\n",
      "  FutureWarning\n"
     ]
    }
   ],
   "source": [
    "findspark.init()\n",
    "SparkContext.setSystemProperty('spark.executor.memory', '6g')\n",
    "conf = SparkConf().setAppName(\"myFirstApp\").setMaster(\"local\")\n",
    "sc = SparkContext(conf=conf)"
   ]
  },
  {
   "cell_type": "code",
   "execution_count": 3,
   "id": "8bed74cb",
   "metadata": {},
   "outputs": [],
   "source": [
    "global_file_count = 0\n",
    "global_record_count = 0\n",
    "record_reset_threshold = 400001\n",
    "record_reset_counter = 0"
   ]
  },
  {
   "cell_type": "code",
   "execution_count": 4,
   "id": "f3908276",
   "metadata": {},
   "outputs": [],
   "source": [
    "basepath = r\"C:\\UCR\\BigData\\Data\"\n",
    "currentFolder = basepath + '\\ev'\n",
    "path_list = []\n",
    "for root, dirs, files in os.walk(currentFolder):\n",
    "    for file in files:\n",
    "        if (file.endswith(\".json\")):\n",
    "            path_list.append(os.path.join(root, file))"
   ]
  },
  {
   "cell_type": "code",
   "execution_count": 5,
   "id": "1d94f0bf",
   "metadata": {},
   "outputs": [],
   "source": [
    "def get_payload(rawdata):\n",
    "    payload = {}\n",
    "    payload['content'] = rawdata['content']\n",
    "    payload['tweetid'] = rawdata['id']\n",
    "    return payload"
   ]
  },
  {
   "cell_type": "code",
   "execution_count": 6,
   "id": "b578ac18",
   "metadata": {},
   "outputs": [],
   "source": [
    "def save_file(tweets):\n",
    "    filename = 'tweet-ev'.format(uuid.uuid4().hex)\n",
    "    fullfilepath = '{}\\\\UpdatedData4L\\\\{}.json'.format(basepath,filename)\n",
    "    jsonfile = open(fullfilepath, 'w')\n",
    "    json.dump(tweets,jsonfile)\n",
    "    jsonfile.close()\n",
    "    print(filename)"
   ]
  },
  {
   "cell_type": "code",
   "execution_count": null,
   "id": "c317efab",
   "metadata": {},
   "outputs": [],
   "source": [
    "tweets = []\n",
    "count = 0\n",
    "file_count = 0\n",
    "for path in path_list:\n",
    "    textFile = sc.textFile(path)\n",
    "    global_file_count +=1\n",
    "    raw_data = textFile.collect()\n",
    "    global_record_count += len(raw_data)\n",
    "    for data in raw_data:\n",
    "        if (record_reset_counter < record_reset_threshold):\n",
    "            json_object = json.loads(data)\n",
    "            if (json_object['lang'] == 'en'):\n",
    "                payload = get_payload(json_object)\n",
    "                tweets.append(payload)\n",
    "                record_reset_counter += 1\n",
    "        else:\n",
    "            save_file(tweets)\n",
    "            tweets = []\n",
    "            record_reset_counter = 0\n",
    "save_file(tweets)\n",
    "print('Global File Count {} Global Record Count {}'.format(global_file_count, global_record_count))\n",
    "print('Done')"
   ]
  }
 ],
 "metadata": {
  "kernelspec": {
   "display_name": "Python 3 (ipykernel)",
   "language": "python",
   "name": "python3"
  },
  "language_info": {
   "codemirror_mode": {
    "name": "ipython",
    "version": 3
   },
   "file_extension": ".py",
   "mimetype": "text/x-python",
   "name": "python",
   "nbconvert_exporter": "python",
   "pygments_lexer": "ipython3",
   "version": "3.8.10"
  }
 },
 "nbformat": 4,
 "nbformat_minor": 5
}
