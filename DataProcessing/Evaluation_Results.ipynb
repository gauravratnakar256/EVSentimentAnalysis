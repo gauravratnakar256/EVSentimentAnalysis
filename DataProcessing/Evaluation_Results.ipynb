{
 "cells": [
  {
   "cell_type": "code",
   "execution_count": 1,
   "id": "e57d0017",
   "metadata": {},
   "outputs": [],
   "source": [
    "import pandas as pd\n",
    "import pyspark\n",
    "from pyspark import SparkContext\n",
    "from pyspark.sql import SparkSession\n",
    "from pyspark.sql import SQLContext\n",
    "#sqlContext = SQLContext(sc)\n",
    "from nltk.corpus import stopwords\n",
    "import re as re\n",
    "from pyspark.ml.feature import CountVectorizer , IDF\n",
    "from pyspark.mllib.linalg import Vector, Vectors\n",
    "#from pyspark.mllib.clustering import LDA, LDAModel\n",
    "from pyspark.ml.clustering import LDA, LDAModel\n",
    "import nltk\n",
    "import numpy as np\n",
    "from pyspark.sql import functions as F\n",
    "from pyspark.sql.functions import size\n",
    "from pyspark.sql.functions import udf, col\n",
    "from pyspark.ml.feature import RegexTokenizer,StopWordsRemover\n",
    "from pyspark.sql.functions import udf, struct\n",
    "import pyspark.sql.types as T \n",
    "import string\n",
    "import nltk\n",
    "from pyspark.sql import Row\n",
    "\n",
    "import os\n",
    "import sys\n",
    "from pyspark.sql import SparkSession\n",
    "\n"
   ]
  },
  {
   "cell_type": "code",
   "execution_count": 2,
   "id": "c6174cb6",
   "metadata": {},
   "outputs": [
    {
     "name": "stderr",
     "output_type": "stream",
     "text": [
      "WARNING: An illegal reflective access operation has occurred\n",
      "WARNING: Illegal reflective access by org.apache.spark.unsafe.Platform (file:/opt/spark/jars/spark-unsafe_2.12-3.1.2.jar) to constructor java.nio.DirectByteBuffer(long,int)\n",
      "WARNING: Please consider reporting this to the maintainers of org.apache.spark.unsafe.Platform\n",
      "WARNING: Use --illegal-access=warn to enable warnings of further illegal reflective access operations\n",
      "WARNING: All illegal access operations will be denied in a future release\n",
      "21/12/10 21:03:29 WARN NativeCodeLoader: Unable to load native-hadoop library for your platform... using builtin-java classes where applicable\n",
      "Using Spark's default log4j profile: org/apache/spark/log4j-defaults.properties\n",
      "Setting default log level to \"WARN\".\n",
      "To adjust logging level use sc.setLogLevel(newLevel). For SparkR, use setLogLevel(newLevel).\n",
      "21/12/10 21:03:30 WARN Utils: Service 'SparkUI' could not bind on port 4040. Attempting port 4041.\n",
      "21/12/10 21:03:30 WARN Utils: Service 'SparkUI' could not bind on port 4041. Attempting port 4042.\n"
     ]
    }
   ],
   "source": [
    "os.environ['PYSPARK_PYTHON'] = sys.executable\n",
    "os.environ['PYSPARK_DRIVER_PYTHON'] = sys.executable\n",
    "spark =SparkSession.builder.master(\"local[1]\").appName('SparkProject').getOrCreate() "
   ]
  },
  {
   "cell_type": "code",
   "execution_count": 3,
   "id": "e0f75d49",
   "metadata": {
    "scrolled": true
   },
   "outputs": [],
   "source": [
    "tokenizer = RegexTokenizer().setPattern(\"[\\\\W_]+\").setMinTokenLength(3).setInputCol(\"content\").setOutputCol(\"tokens\")"
   ]
  },
  {
   "cell_type": "code",
   "execution_count": 4,
   "id": "0406138f",
   "metadata": {},
   "outputs": [
    {
     "name": "stderr",
     "output_type": "stream",
     "text": [
      "[nltk_data] Downloading package wordnet to /home/bigdata/nltk_data...\n",
      "[nltk_data]   Package wordnet is already up-to-date!\n"
     ]
    }
   ],
   "source": [
    "nltk.download('wordnet')\n",
    "from nltk.stem import WordNetLemmatizer\n",
    "lemmatizer = WordNetLemmatizer()\n",
    "\n",
    "def lemmatization(row):\n",
    "    #row = [stemmer.stem(lemmatizer.lemmatize(word)) for word in row]\n",
    "    row = [lemmatizer.lemmatize(word,'v') for word in row]\n",
    "    return row"
   ]
  },
  {
   "cell_type": "code",
   "execution_count": 5,
   "id": "e6bbdf92",
   "metadata": {},
   "outputs": [],
   "source": [
    "lemmatization = udf(lemmatization)"
   ]
  },
  {
   "cell_type": "code",
   "execution_count": 6,
   "id": "ffb7cc04",
   "metadata": {},
   "outputs": [],
   "source": [
    "#tokenizes, remove stopwords, and lammatize data\n",
    "\n",
    "def preprocess_data(df):\n",
    "    tokenizer = RegexTokenizer().setPattern(\"[\\\\W_]+\").setMinTokenLength(3).setInputCol(\"content\").setOutputCol(\"tokens\")\n",
    "    df = tokenizer.transform(df)\n",
    "    \n",
    "    nltk.download('stopwords')\n",
    "    stopwordList = stopwords.words('english')\n",
    "    remover = StopWordsRemover(stopWords=stopwordList)\n",
    "    remover.setInputCol(\"tokens\")\n",
    "    remover.setOutputCol(\"filtered\")\n",
    "\n",
    "    df = remover.transform(df)\n",
    "    \n",
    "    df=df.withColumn('tokens', lemmatization(df['filtered']))\n",
    "    return df    "
   ]
  },
  {
   "cell_type": "code",
   "execution_count": 7,
   "id": "53d394ca",
   "metadata": {},
   "outputs": [
    {
     "data": {
      "text/plain": [
       "<function __main__.<lambda>(x)>"
      ]
     },
     "execution_count": 7,
     "metadata": {},
     "output_type": "execute_result"
    }
   ],
   "source": [
    "from textblob import TextBlob\n",
    "\n",
    "sentiment_polarity = udf(lambda x: TextBlob(x).sentiment[0])\n",
    "spark.udf.register(\"sentiment_polarity\", sentiment_polarity)\n",
    "\n",
    "sentiment_subjectivity = udf(lambda x: TextBlob(x).sentiment[1])\n",
    "spark.udf.register(\"sentiment_subjectivity\", sentiment_subjectivity)"
   ]
  },
  {
   "cell_type": "code",
   "execution_count": 8,
   "id": "a079c721",
   "metadata": {},
   "outputs": [],
   "source": [
    "def get_sentiment(df):\n",
    "    df = df.withColumn('sentiment_polarity',sentiment_polarity('content').cast('double'))\n",
    "    df = df.withColumn('sentiment_subjectivity',sentiment_subjectivity('content').cast('double'))\n",
    "    return df\n"
   ]
  },
  {
   "cell_type": "code",
   "execution_count": 9,
   "id": "73798f79",
   "metadata": {},
   "outputs": [],
   "source": [
    "def get_discrete_sentiment(sentiment_polarity):\n",
    "    if(sentiment_polarity > 0):\n",
    "        return 1\n",
    "    elif(sentiment_polarity < 0):\n",
    "        return -1\n",
    "    else:\n",
    "        return 0"
   ]
  },
  {
   "cell_type": "code",
   "execution_count": 10,
   "id": "bc3dc199",
   "metadata": {},
   "outputs": [],
   "source": [
    "get_discrete_sentiment = udf(get_discrete_sentiment)"
   ]
  },
  {
   "cell_type": "code",
   "execution_count": 11,
   "id": "0ce6f407",
   "metadata": {},
   "outputs": [
    {
     "data": {
      "text/plain": [
       "Row(tweetid='1.13121E+18', content='less than  days left till the  ecosummit jedlixs cofounder  will speak on may  about integrating evs into the eco system check the program', polarity='0', topic='eco')"
      ]
     },
     "execution_count": 11,
     "metadata": {},
     "output_type": "execute_result"
    }
   ],
   "source": [
    "df = spark.read.option(\"header\",True).csv(\"labelled_tweets.csv\")\n",
    "df = df.drop('_c4','_c5')\n",
    "df = df.na.drop()\n",
    "df = df.filter(\"content != ''\")\n",
    "df.head()"
   ]
  },
  {
   "cell_type": "code",
   "execution_count": 12,
   "id": "c714fbd7",
   "metadata": {},
   "outputs": [
    {
     "name": "stderr",
     "output_type": "stream",
     "text": [
      "[nltk_data] Downloading package stopwords to\n",
      "[nltk_data]     /home/bigdata/nltk_data...\n",
      "[nltk_data]   Package stopwords is already up-to-date!\n",
      "                                                                                \r"
     ]
    },
    {
     "data": {
      "text/plain": [
       "Row(tweetid='1.13121E+18', content='less than  days left till the  ecosummit jedlixs cofounder  will speak on may  about integrating evs into the eco system check the program', polarity='0', topic='eco', tokens='[less, days, leave, till, ecosummit, jedlixs, cofounder, speak, may, integrate, evs, eco, system, check, program]', filtered=['less', 'days', 'left', 'till', 'ecosummit', 'jedlixs', 'cofounder', 'speak', 'may', 'integrating', 'evs', 'eco', 'system', 'check', 'program'], sentiment_polarity=-0.08333333333333333, sentiment_subjectivity=0.03333333333333333, sentiment=-1.0)"
      ]
     },
     "execution_count": 12,
     "metadata": {},
     "output_type": "execute_result"
    }
   ],
   "source": [
    "df = preprocess_data(df)\n",
    "df = get_sentiment(df)\n",
    "df = df.withColumn('sentiment',get_discrete_sentiment('sentiment_polarity').cast('double'))\n",
    "df.head()"
   ]
  },
  {
   "cell_type": "code",
   "execution_count": 13,
   "id": "4afedf36",
   "metadata": {},
   "outputs": [],
   "source": [
    "from sklearn.metrics import f1_score\n",
    "from sklearn.metrics import multilabel_confusion_matrix"
   ]
  },
  {
   "cell_type": "code",
   "execution_count": 14,
   "id": "e7e629f8",
   "metadata": {},
   "outputs": [],
   "source": [
    "y_true = df.select(\"polarity\").rdd.flatMap(lambda x: x).collect()\n",
    "y_pred = df.select(\"sentiment\").rdd.flatMap(lambda x: x).collect()\n",
    "\n",
    "y_true = list(map(int, y_true))\n",
    "y_pred = list(map(int,y_pred))"
   ]
  },
  {
   "cell_type": "code",
   "execution_count": 15,
   "id": "60e8c302",
   "metadata": {},
   "outputs": [
    {
     "data": {
      "text/plain": [
       "0.5045135406218656"
      ]
     },
     "execution_count": 15,
     "metadata": {},
     "output_type": "execute_result"
    }
   ],
   "source": [
    "f1_score(y_true,y_pred,average='micro')"
   ]
  },
  {
   "cell_type": "code",
   "execution_count": 16,
   "id": "263ee817",
   "metadata": {},
   "outputs": [],
   "source": [
    "vis_arr = multilabel_confusion_matrix(y_true, y_pred)"
   ]
  },
  {
   "cell_type": "code",
   "execution_count": 22,
   "id": "a07b866b",
   "metadata": {},
   "outputs": [],
   "source": [
    "labels = [\"Negative Sentiments\",\"Neutral Sentiments\",\"Positive Sentiments\"]"
   ]
  },
  {
   "cell_type": "code",
   "execution_count": 23,
   "id": "b485fccb",
   "metadata": {},
   "outputs": [],
   "source": [
    "import pandas as pd\n",
    "import matplotlib.pyplot as plt\n",
    "import seaborn as sns"
   ]
  },
  {
   "cell_type": "code",
   "execution_count": 24,
   "id": "b32a4bcc",
   "metadata": {},
   "outputs": [],
   "source": [
    "def print_confusion_matrix(confusion_matrix, axes, class_label, class_names, fontsize=14):\n",
    "\n",
    "    df_cm = pd.DataFrame(\n",
    "        confusion_matrix, index=class_names, columns=class_names,\n",
    "    )\n",
    "\n",
    "    try:\n",
    "        heatmap = sns.heatmap(df_cm,  vmin=20, vmax=800, annot=True, fmt=\"d\", cbar=False, ax=axes)\n",
    "    except ValueError:\n",
    "        raise ValueError(\"Confusion matrix values must be integers.\")\n",
    "    heatmap.yaxis.set_ticklabels(heatmap.yaxis.get_ticklabels(), rotation=0, ha='right', fontsize=fontsize)\n",
    "    heatmap.xaxis.set_ticklabels(heatmap.xaxis.get_ticklabels(), rotation=0, ha='right', fontsize=fontsize)\n",
    "    axes.set_ylabel('True label')\n",
    "    axes.set_xlabel('Predicted label')\n",
    "    axes.set_title(\"Confusion Matrix for the class - \" + class_label)\n",
    "    "
   ]
  },
  {
   "cell_type": "code",
   "execution_count": 26,
   "id": "e3fad9b0",
   "metadata": {},
   "outputs": [
    {
     "data": {
      "image/png": "[encoded data removed]",
      "text/plain": [
       "<Figure size 1080x216 with 3 Axes>"
      ]
     },
     "metadata": {
      "needs_background": "light"
     },
     "output_type": "display_data"
    }
   ],
   "source": [
    "fig, ax = plt.subplots(1, 3, figsize=(15, 3))\n",
    "    \n",
    "for axes, cfs_matrix, label in zip(ax.flatten(), vis_arr, labels):\n",
    "    print_confusion_matrix(cfs_matrix, axes, label, [\"N\", \"Y\"])\n",
    "    \n",
    "fig.tight_layout()\n",
    "plt.show()"
   ]
  },
  {
   "cell_type": "code",
   "execution_count": null,
   "id": "d0c8f357",
   "metadata": {},
   "outputs": [],
   "source": []
  }
 ],
 "metadata": {
  "kernelspec": {
   "display_name": "Python 3 (ipykernel)",
   "language": "python",
   "name": "python3"
  },
  "language_info": {
   "codemirror_mode": {
    "name": "ipython",
    "version": 3
   },
   "file_extension": ".py",
   "mimetype": "text/x-python",
   "name": "python",
   "nbconvert_exporter": "python",
   "pygments_lexer": "ipython3",
   "version": "3.8.10"
  }
 },
 "nbformat": 4,
 "nbformat_minor": 5
}
