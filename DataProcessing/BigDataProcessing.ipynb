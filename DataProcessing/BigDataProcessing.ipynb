{
 "cells": [
  {
   "cell_type": "code",
   "execution_count": 9,
   "id": "e57d0017",
   "metadata": {},
   "outputs": [],
   "source": [
    "import pandas as pd\n",
    "import pyspark\n",
    "from pyspark import SparkContext\n",
    "from pyspark.sql import SparkSession\n",
    "from pyspark.sql import SQLContext\n",
    "#sqlContext = SQLContext(sc)\n",
    "from nltk.corpus import stopwords\n",
    "import re as re\n",
    "from pyspark.ml.feature import CountVectorizer , IDF\n",
    "from pyspark.mllib.linalg import Vector, Vectors\n",
    "#from pyspark.mllib.clustering import LDA, LDAModel\n",
    "from pyspark.ml.clustering import LDA, LDAModel\n",
    "import nltk\n",
    "import numpy as np\n",
    "from pyspark.sql import functions as F\n",
    "from pyspark.sql.functions import size\n",
    "from pyspark.sql.functions import udf, col\n",
    "from pyspark.ml.feature import RegexTokenizer,StopWordsRemover\n",
    "from pyspark.sql.functions import udf, struct\n",
    "import pyspark.sql.types as T \n",
    "import string\n",
    "import nltk\n",
    "from pyspark.sql import Row\n",
    "from pyspark.sql.functions import desc, row_number, monotonically_increasing_id\n",
    "from pyspark.sql.window import Window\n",
    "\n",
    "import os\n",
    "import sys\n",
    "from pyspark.sql import SparkSession\n",
    "\n"
   ]
  },
  {
   "cell_type": "code",
   "execution_count": 2,
   "id": "c6174cb6",
   "metadata": {},
   "outputs": [
    {
     "name": "stderr",
     "output_type": "stream",
     "text": [
      "WARNING: An illegal reflective access operation has occurred\n",
      "WARNING: Illegal reflective access by org.apache.spark.unsafe.Platform (file:/opt/spark/jars/spark-unsafe_2.12-3.1.2.jar) to constructor java.nio.DirectByteBuffer(long,int)\n",
      "WARNING: Please consider reporting this to the maintainers of org.apache.spark.unsafe.Platform\n",
      "WARNING: Use --illegal-access=warn to enable warnings of further illegal reflective access operations\n",
      "WARNING: All illegal access operations will be denied in a future release\n",
      "21/12/10 11:48:50 WARN NativeCodeLoader: Unable to load native-hadoop library for your platform... using builtin-java classes where applicable\n",
      "Using Spark's default log4j profile: org/apache/spark/log4j-defaults.properties\n",
      "Setting default log level to \"WARN\".\n",
      "To adjust logging level use sc.setLogLevel(newLevel). For SparkR, use setLogLevel(newLevel).\n",
      "21/12/10 11:48:51 WARN Utils: Service 'SparkUI' could not bind on port 4040. Attempting port 4041.\n"
     ]
    }
   ],
   "source": [
    "os.environ['PYSPARK_PYTHON'] = sys.executable\n",
    "os.environ['PYSPARK_DRIVER_PYTHON'] = sys.executable\n",
    "spark =SparkSession.builder.master(\"local[1]\").appName('SparkProject').getOrCreate() "
   ]
  },
  {
   "cell_type": "code",
   "execution_count": 10,
   "id": "45b3c4b1",
   "metadata": {},
   "outputs": [
    {
     "name": "stderr",
     "output_type": "stream",
     "text": [
      "                                                                                \r"
     ]
    }
   ],
   "source": [
    "#data  = spark.read.json(r\"C:\\Users\\EndUser\\Desktop\\Data\\AbhishekData\\tweets.json\")\n",
    "#df = spark.read.json(\"tweets2.csv\")\n",
    "df = spark.read.json(\"tweets90.json\")"
   ]
  },
  {
   "cell_type": "code",
   "execution_count": 11,
   "id": "6550ec49",
   "metadata": {},
   "outputs": [
    {
     "data": {
      "text/plain": [
       "Row(content='.@VW will introduce heads-up display with augmented-reality in its upcoming #EVs. https://t.co/CINqosgiCD', date='2017-01-31T23:49:34+00:00', latitude=None, longitude=None, tweetid=826578200402616320, userid=1187313746, userlocation='')"
      ]
     },
     "execution_count": 11,
     "metadata": {},
     "output_type": "execute_result"
    }
   ],
   "source": [
    "df.head()"
   ]
  },
  {
   "cell_type": "code",
   "execution_count": 12,
   "id": "8de28195",
   "metadata": {},
   "outputs": [],
   "source": [
    "df = df.dropDuplicates(['tweetid'])\n",
    "df = df.na.drop()\n",
    "df = df.filter(\"content != ''\")\n",
    "df = df.limit(100)"
   ]
  },
  {
   "cell_type": "code",
   "execution_count": 13,
   "id": "bce3d734",
   "metadata": {},
   "outputs": [],
   "source": [
    "def remove_emoji(string):\n",
    "    emoji_pattern = re.compile(\"[\"\n",
    "                           u\"\\U0001F600-\\U0001F64F\"  # emoticons\n",
    "                           u\"\\U0001F300-\\U0001F5FF\"  # symbols & pictographs\n",
    "                           u\"\\U0001F680-\\U0001F6FF\"  # transport & map symbols\n",
    "                           u\"\\U0001F1E0-\\U0001F1FF\"  # flags (iOS)\n",
    "                           u\"\\U00002702-\\U000027B0\"\n",
    "                           u\"\\U000024C2-\\U0001F251\"\n",
    "                           \"]+\", flags=re.UNICODE)\n",
    "    return emoji_pattern.sub(r'', string)\n",
    "\n",
    "def remove_number(tweet):\n",
    "    tweet = re.sub('([0-9]+)', '', tweet) \n",
    "    return tweet\n",
    "\n",
    "def remove_users(tweet):\n",
    "    tweet = re.sub('(RT\\s@[A-Za-z]+[A-Za-z0-9-_]+)', '', tweet) \n",
    "    tweet = re.sub('(@[A-Za-z]+[A-Za-z0-9-_]+)', '', tweet) \n",
    "    return tweet"
   ]
  },
  {
   "cell_type": "code",
   "execution_count": 14,
   "id": "90dcef85",
   "metadata": {},
   "outputs": [],
   "source": [
    "from pyspark.sql.types import StringType\n",
    "\n",
    "remove_emoji=udf(remove_emoji)\n",
    "remove_users=udf(remove_users)\n",
    "remove_number=udf(remove_number)\n",
    "\n",
    "df=df.withColumn('content', remove_emoji(df['content']))\n",
    "df=df.withColumn('content', remove_users(df['content']))\n",
    "df=df.withColumn('content', remove_number(df['content']))"
   ]
  },
  {
   "cell_type": "code",
   "execution_count": 15,
   "id": "6d39bd0a",
   "metadata": {},
   "outputs": [],
   "source": [
    "\n",
    "df = df.withColumn('content', F.regexp_replace('content', r'http\\S+', ''))\n",
    "df = df.withColumn('content', F.regexp_replace('content', '@\\w+', ''))\n",
    "df = df.withColumn('content', F.regexp_replace('content', '#', ''))\n",
    "df = df.withColumn('content', F.regexp_replace('content', 'RT', ''))\n",
    "df = df.withColumn('content', F.regexp_replace('content', ':', ''))\n",
    "df = df.withColumn('content', F.regexp_replace('content', '\\n', ''))\n",
    "df = df.withColumn('content', F.regexp_replace('content', '|', ''))\n",
    "df = df.withColumn('content', F.regexp_replace('content', '[^\\sa-zA-Z0-9]', ''))\n",
    "df = df.withColumn(\"content\",F.lower('content'))\n",
    "df = df.withColumn(\"content\",F.rtrim('content'))\n",
    "\n",
    "df = df.withColumn('Tweet_No', row_number().over(Window.orderBy(monotonically_increasing_id())) - 1)"
   ]
  },
  {
   "cell_type": "code",
   "execution_count": 16,
   "id": "ae5bbbc0",
   "metadata": {},
   "outputs": [
    {
     "name": "stderr",
     "output_type": "stream",
     "text": [
      "21/12/10 11:49:48 WARN WindowExec: No Partition Defined for Window operation! Moving all data to a single partition, this can cause serious performance degradation.\n",
      "                                                                                \r"
     ]
    },
    {
     "data": {
      "text/plain": [
       "Row(content=' european fast charging networks announce fast charging alliance evs', date='2017-02-12T19:18:39+00:00', latitude=59.8097794, longitude=10.4914682, tweetid=830858673421443077, userid=1664893472, userlocation='📍Amsterdam & Costa Rica ', Tweet_No=0)"
      ]
     },
     "execution_count": 16,
     "metadata": {},
     "output_type": "execute_result"
    }
   ],
   "source": [
    "df.head()"
   ]
  },
  {
   "cell_type": "code",
   "execution_count": 17,
   "id": "e0f75d49",
   "metadata": {
    "scrolled": true
   },
   "outputs": [],
   "source": [
    "tokenizer = RegexTokenizer().setPattern(\"[\\\\W_]+\").setMinTokenLength(3).setInputCol(\"content\").setOutputCol(\"tokens\")"
   ]
  },
  {
   "cell_type": "code",
   "execution_count": 18,
   "id": "c1b7bfed",
   "metadata": {},
   "outputs": [],
   "source": [
    "df = tokenizer.transform(df)\n"
   ]
  },
  {
   "cell_type": "code",
   "execution_count": 19,
   "id": "b483f6bb",
   "metadata": {},
   "outputs": [
    {
     "name": "stderr",
     "output_type": "stream",
     "text": [
      "21/12/10 11:49:59 WARN WindowExec: No Partition Defined for Window operation! Moving all data to a single partition, this can cause serious performance degradation.\n",
      "                                                                                \r"
     ]
    },
    {
     "data": {
      "text/plain": [
       "Row(content=' european fast charging networks announce fast charging alliance evs', date='2017-02-12T19:18:39+00:00', latitude=59.8097794, longitude=10.4914682, tweetid=830858673421443077, userid=1664893472, userlocation='📍Amsterdam & Costa Rica ', Tweet_No=0, tokens=['european', 'fast', 'charging', 'networks', 'announce', 'fast', 'charging', 'alliance', 'evs'])"
      ]
     },
     "execution_count": 19,
     "metadata": {},
     "output_type": "execute_result"
    }
   ],
   "source": [
    "df.head()"
   ]
  },
  {
   "cell_type": "code",
   "execution_count": 20,
   "id": "1fdab20f",
   "metadata": {},
   "outputs": [
    {
     "name": "stderr",
     "output_type": "stream",
     "text": [
      "[nltk_data] Downloading package stopwords to\n",
      "[nltk_data]     /home/bigdata/nltk_data...\n",
      "[nltk_data]   Package stopwords is already up-to-date!\n"
     ]
    }
   ],
   "source": [
    "nltk.download('stopwords')\n",
    "stopwordList = stopwords.words('english')\n",
    "remover = StopWordsRemover(stopWords=stopwordList)\n",
    "remover.setInputCol(\"tokens\")\n",
    "remover.setOutputCol(\"filtered\")\n",
    "\n",
    "df = remover.transform(df);\n"
   ]
  },
  {
   "cell_type": "code",
   "execution_count": 21,
   "id": "0406138f",
   "metadata": {},
   "outputs": [
    {
     "name": "stderr",
     "output_type": "stream",
     "text": [
      "[nltk_data] Downloading package wordnet to /home/bigdata/nltk_data...\n",
      "[nltk_data]   Package wordnet is already up-to-date!\n"
     ]
    }
   ],
   "source": [
    "nltk.download('wordnet')\n",
    "from nltk.stem import WordNetLemmatizer\n",
    "lemmatizer = WordNetLemmatizer()\n",
    "\n",
    "def lemmatization(row):\n",
    "    #row = [stemmer.stem(lemmatizer.lemmatize(word)) for word in row]\n",
    "    row = [lemmatizer.lemmatize(word,'v') for word in row]\n",
    "    return row"
   ]
  },
  {
   "cell_type": "code",
   "execution_count": 22,
   "id": "e6bbdf92",
   "metadata": {},
   "outputs": [],
   "source": [
    "lemmatization = udf(lemmatization)\n",
    "\n",
    "df=df.withColumn('tokens', lemmatization(df['filtered']))\n",
    "\n"
   ]
  },
  {
   "cell_type": "code",
   "execution_count": 23,
   "id": "d5d194fc",
   "metadata": {},
   "outputs": [
    {
     "name": "stderr",
     "output_type": "stream",
     "text": [
      "21/12/10 11:50:15 WARN WindowExec: No Partition Defined for Window operation! Moving all data to a single partition, this can cause serious performance degradation.\n",
      "                                                                                \r"
     ]
    },
    {
     "data": {
      "text/plain": [
       "Row(content=' european fast charging networks announce fast charging alliance evs', date='2017-02-12T19:18:39+00:00', latitude=59.8097794, longitude=10.4914682, tweetid=830858673421443077, userid=1664893472, userlocation='📍Amsterdam & Costa Rica ', Tweet_No=0, tokens='[european, fast, charge, network, announce, fast, charge, alliance, evs]', filtered=['european', 'fast', 'charging', 'networks', 'announce', 'fast', 'charging', 'alliance', 'evs'])"
      ]
     },
     "execution_count": 23,
     "metadata": {},
     "output_type": "execute_result"
    }
   ],
   "source": [
    "df.head()"
   ]
  },
  {
   "cell_type": "code",
   "execution_count": 24,
   "id": "473f7ef1",
   "metadata": {},
   "outputs": [],
   "source": [
    "#sampling data for manual labelling\n",
    "def get_sample(part=0.17):\n",
    "    df = df.sample(part)\n",
    "    df = df.select(\"tweetid\", \"content\")\n",
    "    df.coalesce(1).write.option(\"header\", True).csv('sample.csv')"
   ]
  },
  {
   "cell_type": "code",
   "execution_count": null,
   "id": "2833b86b",
   "metadata": {},
   "outputs": [],
   "source": []
  },
  {
   "cell_type": "code",
   "execution_count": 25,
   "id": "62ee5ed9",
   "metadata": {},
   "outputs": [],
   "source": [
    "#training and topic modelling"
   ]
  },
  {
   "cell_type": "markdown",
   "id": "5a9447b7",
   "metadata": {},
   "source": [
    "from pyspark.sql.functions import lit\n",
    "df = df.withColumn(\"polarity\", lit(0))\n",
    "df = df.withColumn(\"topic\", lit(\"\"))"
   ]
  },
  {
   "cell_type": "code",
   "execution_count": 26,
   "id": "1eac14d7",
   "metadata": {},
   "outputs": [
    {
     "name": "stderr",
     "output_type": "stream",
     "text": [
      "21/12/10 11:50:38 WARN WindowExec: No Partition Defined for Window operation! Moving all data to a single partition, this can cause serious performance degradation.\n",
      "                                                                                \r"
     ]
    },
    {
     "data": {
      "text/plain": [
       "Row(content=' european fast charging networks announce fast charging alliance evs', date='2017-02-12T19:18:39+00:00', latitude=59.8097794, longitude=10.4914682, tweetid=830858673421443077, userid=1664893472, userlocation='📍Amsterdam & Costa Rica ', Tweet_No=0, tokens='[european, fast, charge, network, announce, fast, charge, alliance, evs]', filtered=['european', 'fast', 'charging', 'networks', 'announce', 'fast', 'charging', 'alliance', 'evs'])"
      ]
     },
     "execution_count": 26,
     "metadata": {},
     "output_type": "execute_result"
    }
   ],
   "source": [
    "df.head()"
   ]
  },
  {
   "cell_type": "code",
   "execution_count": 27,
   "id": "ec53d8d8",
   "metadata": {},
   "outputs": [],
   "source": [
    "#extracting tweet sentiment"
   ]
  },
  {
   "cell_type": "code",
   "execution_count": 28,
   "id": "53d394ca",
   "metadata": {},
   "outputs": [
    {
     "data": {
      "text/plain": [
       "<function __main__.<lambda>(x)>"
      ]
     },
     "execution_count": 28,
     "metadata": {},
     "output_type": "execute_result"
    }
   ],
   "source": [
    "from textblob import TextBlob\n",
    "\n",
    "sentiment_polarity = udf(lambda x: TextBlob(x).sentiment[0])\n",
    "spark.udf.register(\"sentiment_polarity\", sentiment_polarity)\n",
    "\n",
    "sentiment_subjectivity = udf(lambda x: TextBlob(x).sentiment[1])\n",
    "spark.udf.register(\"sentiment_subjectivity\", sentiment_subjectivity)"
   ]
  },
  {
   "cell_type": "code",
   "execution_count": 29,
   "id": "a079c721",
   "metadata": {},
   "outputs": [
    {
     "name": "stderr",
     "output_type": "stream",
     "text": [
      "21/12/10 11:50:46 WARN WindowExec: No Partition Defined for Window operation! Moving all data to a single partition, this can cause serious performance degradation.\n",
      "                                                                                \r"
     ]
    },
    {
     "data": {
      "text/plain": [
       "Row(content=' european fast charging networks announce fast charging alliance evs', date='2017-02-12T19:18:39+00:00', latitude=59.8097794, longitude=10.4914682, tweetid=830858673421443077, userid=1664893472, userlocation='📍Amsterdam & Costa Rica ', Tweet_No=0, tokens='[european, fast, charge, network, announce, fast, charge, alliance, evs]', filtered=['european', 'fast', 'charging', 'networks', 'announce', 'fast', 'charging', 'alliance', 'evs'], sentiment_polarity=0.13333333333333333)"
      ]
     },
     "execution_count": 29,
     "metadata": {},
     "output_type": "execute_result"
    }
   ],
   "source": [
    "df = df.withColumn('sentiment_polarity',sentiment_polarity('content').cast('double'))\n",
    "df.head()"
   ]
  },
  {
   "cell_type": "code",
   "execution_count": 30,
   "id": "3a226f41",
   "metadata": {},
   "outputs": [
    {
     "name": "stderr",
     "output_type": "stream",
     "text": [
      "21/12/10 11:50:54 WARN WindowExec: No Partition Defined for Window operation! Moving all data to a single partition, this can cause serious performance degradation.\n",
      "                                                                                \r"
     ]
    },
    {
     "data": {
      "text/plain": [
       "Row(content=' european fast charging networks announce fast charging alliance evs', date='2017-02-12T19:18:39+00:00', latitude=59.8097794, longitude=10.4914682, tweetid=830858673421443077, userid=1664893472, userlocation='📍Amsterdam & Costa Rica ', Tweet_No=0, tokens='[european, fast, charge, network, announce, fast, charge, alliance, evs]', filtered=['european', 'fast', 'charging', 'networks', 'announce', 'fast', 'charging', 'alliance', 'evs'], sentiment_polarity=0.13333333333333333, sentiment_subjectivity=0.39999999999999997)"
      ]
     },
     "execution_count": 30,
     "metadata": {},
     "output_type": "execute_result"
    }
   ],
   "source": [
    "df = df.withColumn('sentiment_subjectivity',sentiment_subjectivity('content').cast('double'))\n",
    "df.head()"
   ]
  },
  {
   "cell_type": "code",
   "execution_count": 31,
   "id": "cea37aa8",
   "metadata": {},
   "outputs": [],
   "source": [
    "import gensim\n",
    "import gensim.corpora as corpora\n",
    "from gensim.utils import simple_preprocess\n",
    "from gensim.models import CoherenceModel"
   ]
  },
  {
   "cell_type": "code",
   "execution_count": 32,
   "id": "ac168046",
   "metadata": {},
   "outputs": [
    {
     "name": "stderr",
     "output_type": "stream",
     "text": [
      "                                                                                \r"
     ]
    }
   ],
   "source": [
    "#Collecting the data from spark and save to list\n",
    "words_array = df.select(\"filtered\").rdd.flatMap(lambda x: x).collect()\n",
    "txt = df.select(\"content\").rdd.flatMap(lambda x: x).collect()"
   ]
  },
  {
   "cell_type": "code",
   "execution_count": 33,
   "id": "11277372",
   "metadata": {},
   "outputs": [],
   "source": [
    "id2word = corpora.Dictionary(words_array)"
   ]
  },
  {
   "cell_type": "code",
   "execution_count": 34,
   "id": "d744f8b9",
   "metadata": {},
   "outputs": [],
   "source": [
    "texts = words_array\n",
    "corpus = [id2word.doc2bow(text) for text in texts]\n",
    "bow = corpus"
   ]
  },
  {
   "cell_type": "code",
   "execution_count": 35,
   "id": "7fdb840f",
   "metadata": {},
   "outputs": [
    {
     "data": {
      "text/plain": [
       "[[('alliance', 1),\n",
       "  ('announce', 1),\n",
       "  ('charging', 2),\n",
       "  ('european', 1),\n",
       "  ('evs', 1),\n",
       "  ('fast', 2),\n",
       "  ('networks', 1)]]"
      ]
     },
     "execution_count": 35,
     "metadata": {},
     "output_type": "execute_result"
    }
   ],
   "source": [
    "#printing the bag of words\n",
    "[[(id2word[id], freq) for id, freq in cp] for cp in corpus[:1]]"
   ]
  },
  {
   "cell_type": "code",
   "execution_count": 36,
   "id": "8cec8ae7",
   "metadata": {},
   "outputs": [],
   "source": [
    "#function to create and run the guided lda model\n",
    "def test_eta(eta, dictionary, ntopics, print_topics=True, print_dist=True):\n",
    "    corp = words_array\n",
    "    np.random.seed(42) # set the random seed for repeatability\n",
    "    bow = [dictionary.doc2bow(line) for line in corp] # get the bow-format lines with the set dictionary\n",
    "    with (np.errstate(divide='ignore')):  # ignore divide-by-zero warnings\n",
    "        model = gensim.models.ldamodel.LdaModel(\n",
    "            corpus=bow, id2word=dictionary, num_topics=ntopics,\n",
    "            random_state=42, chunksize=100, eta=eta,\n",
    "            eval_every=-1, update_every=1,\n",
    "            passes=150, alpha='auto', per_word_topics=True)\n",
    "    # visuzlize the model term topics\n",
    "    # viz_model(model, dictionary)\n",
    "    print('Perplexity: {:.2f}'.format(model.log_perplexity(bow)))\n",
    "    if print_topics:\n",
    "        # display the top terms for each topic\n",
    "        for topic in range(ntopics):\n",
    "            print('Topic {}: {}'.format(topic, [dictionary[w] for w,p in model.get_topic_terms(topic, topn=3)]))\n",
    "    if print_dist:\n",
    "        # display the topic probabilities for each document\n",
    "        for line,bag in zip(txt,bow):\n",
    "            doc_topics = ['({}, {:.1%})'.format(topic, prob) for topic,prob in model.get_document_topics(bag)]\n",
    "            print('{} {}'.format(line, doc_topics))\n",
    "    return model"
   ]
  },
  {
   "cell_type": "code",
   "execution_count": 37,
   "id": "328113b1",
   "metadata": {},
   "outputs": [],
   "source": [
    "#function to create the eta for topic modelling\n",
    "def create_eta(priors, etadict, ntopics):\n",
    "    eta = np.full(shape=(ntopics, len(etadict)), fill_value=1) # create a (ntopics, nterms) matrix and fill with 1\n",
    "    for word, topic in priors.items(): # for each word in the list of priors\n",
    "        keyindex = [index for index,term in etadict.items() if term==word] # look up the word in the dictionary\n",
    "        if (len(keyindex)>0): # if it's in the dictionary\n",
    "            print(keyindex)\n",
    "            eta[topic,keyindex[0]] = 1e7  # put a large number in there\n",
    "    eta = np.divide(eta, eta.sum(axis=0)) # normalize so that the probabilities sum to 1 over all topics\n",
    "    print (eta)\n",
    "    return eta"
   ]
  },
  {
   "cell_type": "code",
   "execution_count": 38,
   "id": "9f65cce5",
   "metadata": {
    "scrolled": true
   },
   "outputs": [
    {
     "name": "stdout",
     "output_type": "stream",
     "text": [
      "[492]\n",
      "[844]\n",
      "[457]\n",
      "[516]\n",
      "[203]\n",
      "[296]\n",
      "[748]\n",
      "[304]\n",
      "[744]\n",
      "[348]\n",
      "[318]\n",
      "[120]\n",
      "[555]\n",
      "[100]\n",
      "[131]\n",
      "[557]\n",
      "[317]\n",
      "[491]\n",
      "[459]\n",
      "[326]\n",
      "[268]\n",
      "[624]\n",
      "[2]\n",
      "[276]\n",
      "[[1.66666667e-01 1.66666667e-01 9.99999500e-08 ... 1.66666667e-01\n",
      "  1.66666667e-01 1.66666667e-01]\n",
      " [1.66666667e-01 1.66666667e-01 9.99999500e-08 ... 1.66666667e-01\n",
      "  1.66666667e-01 1.66666667e-01]\n",
      " [1.66666667e-01 1.66666667e-01 9.99999500e-08 ... 1.66666667e-01\n",
      "  1.66666667e-01 1.66666667e-01]\n",
      " [1.66666667e-01 1.66666667e-01 9.99999500e-08 ... 1.66666667e-01\n",
      "  1.66666667e-01 1.66666667e-01]\n",
      " [1.66666667e-01 1.66666667e-01 9.99999500e-08 ... 1.66666667e-01\n",
      "  1.66666667e-01 1.66666667e-01]\n",
      " [1.66666667e-01 1.66666667e-01 9.99999500e-01 ... 1.66666667e-01\n",
      "  1.66666667e-01 1.66666667e-01]]\n",
      "Perplexity: 11.74\n"
     ]
    }
   ],
   "source": [
    "topic_labelling = {\n",
    "    'cost': 0,'value': 0,'worth': 0,'valuation': 0,'premium': 0,'rate': 0,'overprice': 0,'cheap': 0,'discount': 0,'inflation': 0,'pay': 0,'amount': 0,'expense': 0,'expensive': 0,'dollar': 0,'money': 0,'costly': 0,'prise': 0,'priceless': 0,'undervalue': 0,'overvalue': 0,'revaluation': 0,'pennyworth': 0,'economy': 0,'underrate': 0,'underprice': 0,'profit': 0,'estimate':0 ,'fees':0 ,'marginal':0 ,'cash':0 ,'pocket':0 ,'capital':0 ,'dime':0 ,'markup':0 ,'haggle':0 ,'wholesale':0 ,'quotation':0 ,'stipend':0 ,'afford':0 ,'savings':0 ,'save':0,'range':1 ,'anxiety':1 ,'far':1 ,'distance':1 ,'long':1 ,'area':1 ,'long-range':1 ,'short-range':1 ,'travel':1 ,'near':1 ,'mileage':1 ,'afar':1 ,'farther':1 ,'reach':1 ,'remote':1 ,'short':1 ,'stretch':1 ,'haul':1 ,'distant':1 ,'commute':1 ,'extended-range':1,'fuel':2 ,'zero':2 ,'emission':2 ,'das':2 ,'diesel':2 ,'refuel':2 ,'coal':2 ,'oil ':2 ,'charcoal':2 ,'biogas':2 ,'fossil':2 ,'electric':2 ,'ev':2,'eco':3 ,'eco-friendly':3 ,'carbon':3 ,'footprint':3 ,'pollution':3 ,'sustainable':3 ,'renewal':3 ,'power':3 ,'plug':3 ,'green':3 ,'environment':3 ,'earth':3 ,'friendly':3 ,'carbon':3 ,'footprint':3,'batttery':4 ,'cell':4 ,'life':4 ,'charge':4 ,'charger':4 ,'voltage':4 ,'elctrolyte':4 ,'surcharge':4 ,'lithium-ion':4 ,'lithium':4 ,'ion':4 ,'battery cost':4 ,'battery life':4 ,'Fuel cell':4 ,'killowatt':4 ,'hour':4 ,'killowatt-hour':4 ,'regenerative':4 ,'regenerative-braking':4, 'infra':5 ,'infrastructure':5 ,'stations':5 ,'charging':5 ,'plug':5 ,'chademo':5 ,'fast charging':5 ,'supercharger':5 ,'framework':5 ,'structure':5 ,'groundwork':5 ,'support':5\n",
    "}\n",
    "eta = create_eta(topic_labelling, id2word, 6)\n",
    "lda_model = test_eta(eta, id2word, 6,False,False)"
   ]
  },
  {
   "cell_type": "code",
   "execution_count": 39,
   "id": "11b0901d",
   "metadata": {},
   "outputs": [
    {
     "name": "stdout",
     "output_type": "stream",
     "text": [
      "\n",
      "Coherence Score:  0.5260482618486332\n"
     ]
    }
   ],
   "source": [
    "data_lemmatized = words_array\n",
    "coherence_model_lda = CoherenceModel(model=lda_model, texts=data_lemmatized, dictionary=id2word, coherence='c_v')\n",
    "coherence_lda = coherence_model_lda.get_coherence()\n",
    "print('\\nCoherence Score: ', coherence_lda)"
   ]
  },
  {
   "cell_type": "code",
   "execution_count": 40,
   "id": "b96d17c7",
   "metadata": {},
   "outputs": [
    {
     "data": {
      "text/html": [
       "<div>\n",
       "<style scoped>\n",
       "    .dataframe tbody tr th:only-of-type {\n",
       "        vertical-align: middle;\n",
       "    }\n",
       "\n",
       "    .dataframe tbody tr th {\n",
       "        vertical-align: top;\n",
       "    }\n",
       "\n",
       "    .dataframe thead th {\n",
       "        text-align: right;\n",
       "    }\n",
       "</style>\n",
       "<table border=\"1\" class=\"dataframe\">\n",
       "  <thead>\n",
       "    <tr style=\"text-align: right;\">\n",
       "      <th></th>\n",
       "      <th>Tweet_No</th>\n",
       "      <th>Dominant_Topic</th>\n",
       "      <th>Topic_Perc_Contrib</th>\n",
       "      <th>Keywords</th>\n",
       "      <th>Tweet</th>\n",
       "    </tr>\n",
       "  </thead>\n",
       "  <tbody>\n",
       "    <tr>\n",
       "      <th>0</th>\n",
       "      <td>0</td>\n",
       "      <td>0.0</td>\n",
       "      <td>0.9918</td>\n",
       "      <td>evs, home, vehicles, great, like, today, years...</td>\n",
       "      <td>european fast charging networks announce fast...</td>\n",
       "    </tr>\n",
       "    <tr>\n",
       "      <th>1</th>\n",
       "      <td>1</td>\n",
       "      <td>2.0</td>\n",
       "      <td>0.9930</td>\n",
       "      <td>evs, electricvehicles, cars, electric, tesla, ...</td>\n",
       "      <td>once  adoption is reached new adoption is ex...</td>\n",
       "    </tr>\n",
       "    <tr>\n",
       "      <th>2</th>\n",
       "      <td>2</td>\n",
       "      <td>3.0</td>\n",
       "      <td>0.9908</td>\n",
       "      <td>evs, electricvehicles, electric, fisker, lot, ...</td>\n",
       "      <td>how is  planning to integrate evs into their f...</td>\n",
       "    </tr>\n",
       "    <tr>\n",
       "      <th>3</th>\n",
       "      <td>3</td>\n",
       "      <td>4.0</td>\n",
       "      <td>0.9835</td>\n",
       "      <td>evs, want, side, bill, hunstanton, see, electr...</td>\n",
       "      <td>heres your next car   zoomzoom  evs</td>\n",
       "    </tr>\n",
       "    <tr>\n",
       "      <th>4</th>\n",
       "      <td>4</td>\n",
       "      <td>0.0</td>\n",
       "      <td>0.9926</td>\n",
       "      <td>evs, home, vehicles, great, like, today, years...</td>\n",
       "      <td>who is sheril jimikki kammal dance performance...</td>\n",
       "    </tr>\n",
       "    <tr>\n",
       "      <th>5</th>\n",
       "      <td>5</td>\n",
       "      <td>0.0</td>\n",
       "      <td>0.9908</td>\n",
       "      <td>evs, home, vehicles, great, like, today, years...</td>\n",
       "      <td>promises allelectric future w intro of new ev...</td>\n",
       "    </tr>\n",
       "    <tr>\n",
       "      <th>6</th>\n",
       "      <td>6</td>\n",
       "      <td>2.0</td>\n",
       "      <td>0.9913</td>\n",
       "      <td>evs, electricvehicles, cars, electric, tesla, ...</td>\n",
       "      <td>afternoon snacks at te evs bikes transit cooki...</td>\n",
       "    </tr>\n",
       "    <tr>\n",
       "      <th>7</th>\n",
       "      <td>7</td>\n",
       "      <td>1.0</td>\n",
       "      <td>0.9869</td>\n",
       "      <td>evs, electric, weight, batteries, battery, inv...</td>\n",
       "      <td>evs ampsupport service party happy holiday</td>\n",
       "    </tr>\n",
       "    <tr>\n",
       "      <th>8</th>\n",
       "      <td>8</td>\n",
       "      <td>1.0</td>\n",
       "      <td>0.9943</td>\n",
       "      <td>evs, electric, weight, batteries, battery, inv...</td>\n",
       "      <td>today clean fuels mi testifying in house energ...</td>\n",
       "    </tr>\n",
       "    <tr>\n",
       "      <th>9</th>\n",
       "      <td>9</td>\n",
       "      <td>2.0</td>\n",
       "      <td>0.9971</td>\n",
       "      <td>evs, electricvehicles, cars, electric, tesla, ...</td>\n",
       "      <td>be sure to stop by the isev stateoftheart char...</td>\n",
       "    </tr>\n",
       "  </tbody>\n",
       "</table>\n",
       "</div>"
      ],
      "text/plain": [
       "   Tweet_No  Dominant_Topic  Topic_Perc_Contrib  \\\n",
       "0         0             0.0              0.9918   \n",
       "1         1             2.0              0.9930   \n",
       "2         2             3.0              0.9908   \n",
       "3         3             4.0              0.9835   \n",
       "4         4             0.0              0.9926   \n",
       "5         5             0.0              0.9908   \n",
       "6         6             2.0              0.9913   \n",
       "7         7             1.0              0.9869   \n",
       "8         8             1.0              0.9943   \n",
       "9         9             2.0              0.9971   \n",
       "\n",
       "                                            Keywords  \\\n",
       "0  evs, home, vehicles, great, like, today, years...   \n",
       "1  evs, electricvehicles, cars, electric, tesla, ...   \n",
       "2  evs, electricvehicles, electric, fisker, lot, ...   \n",
       "3  evs, want, side, bill, hunstanton, see, electr...   \n",
       "4  evs, home, vehicles, great, like, today, years...   \n",
       "5  evs, home, vehicles, great, like, today, years...   \n",
       "6  evs, electricvehicles, cars, electric, tesla, ...   \n",
       "7  evs, electric, weight, batteries, battery, inv...   \n",
       "8  evs, electric, weight, batteries, battery, inv...   \n",
       "9  evs, electricvehicles, cars, electric, tesla, ...   \n",
       "\n",
       "                                               Tweet  \n",
       "0   european fast charging networks announce fast...  \n",
       "1    once  adoption is reached new adoption is ex...  \n",
       "2  how is  planning to integrate evs into their f...  \n",
       "3                heres your next car   zoomzoom  evs  \n",
       "4  who is sheril jimikki kammal dance performance...  \n",
       "5   promises allelectric future w intro of new ev...  \n",
       "6  afternoon snacks at te evs bikes transit cooki...  \n",
       "7         evs ampsupport service party happy holiday  \n",
       "8  today clean fuels mi testifying in house energ...  \n",
       "9  be sure to stop by the isev stateoftheart char...  "
      ]
     },
     "execution_count": 40,
     "metadata": {},
     "output_type": "execute_result"
    }
   ],
   "source": [
    "data = txt\n",
    "def format_topics_sentences(ldamodel=lda_model, corpus=corpus, texts=data):\n",
    "    sent_topics_df = pd.DataFrame()\n",
    "    for i, row_list in enumerate(ldamodel[corpus]):\n",
    "        row = row_list[0] if lda_model.per_word_topics else row_list\n",
    "        row = sorted(row, key=lambda x: (x[1]), reverse=True)\n",
    "        for j, (topic_num, prop_topic) in enumerate(row):\n",
    "            if j == 0: \n",
    "                wp = ldamodel.show_topic(topic_num)\n",
    "                topic_keywords = \", \".join([word for word, prop in wp])\n",
    "                sent_topics_df = sent_topics_df.append(pd.Series([int(topic_num), round(prop_topic,4), topic_keywords]), ignore_index=True)\n",
    "            else:\n",
    "                break\n",
    "    sent_topics_df.columns = ['Dominant_Topic', 'Perc_Contribution', 'Topic_Keywords']\n",
    "\n",
    "    contents = pd.Series(texts)\n",
    "    sent_topics_df = pd.concat([sent_topics_df, contents], axis=1)\n",
    "    return(sent_topics_df)\n",
    "\n",
    "\n",
    "df_topic_sents_keywords = format_topics_sentences(ldamodel=lda_model, corpus=corpus, texts=data)\n",
    "\n",
    "df_dominant_topic = df_topic_sents_keywords.reset_index()\n",
    "df_dominant_topic.columns = ['Tweet_No', 'Dominant_Topic', 'Topic_Perc_Contrib', 'Keywords', 'Tweet']\n",
    "\n",
    "df_dominant_topic.head(10)"
   ]
  },
  {
   "cell_type": "code",
   "execution_count": 42,
   "id": "6c1a95ef",
   "metadata": {},
   "outputs": [],
   "source": [
    "from pyspark.sql.functions import desc\n",
    "\n",
    "dominant_topic=spark.createDataFrame(df_dominant_topic)\n",
    "join = df.join(dominant_topic, dominant_topic.Tweet_No == df.Tweet_No, 'left').select(dominant_topic.Tweet_No, dominant_topic.Dominant_Topic,dominant_topic.Tweet,df.sentiment_polarity,df.sentiment_subjectivity)"
   ]
  },
  {
   "cell_type": "code",
   "execution_count": 43,
   "id": "3ef0d882",
   "metadata": {},
   "outputs": [
    {
     "name": "stderr",
     "output_type": "stream",
     "text": [
      "21/12/10 11:52:47 WARN WindowExec: No Partition Defined for Window operation! Moving all data to a single partition, this can cause serious performance degradation.\n",
      "                                                                                \r"
     ]
    },
    {
     "name": "stdout",
     "output_type": "stream",
     "text": [
      "+--------+--------------+--------------------+--------------------+----------------------+---------+\n",
      "|Tweet_No|Dominant_Topic|               Tweet|  sentiment_polarity|sentiment_subjectivity|Sentiment|\n",
      "+--------+--------------+--------------------+--------------------+----------------------+---------+\n",
      "|      26|           3.0|  opens room to s...|                 0.3|    0.6000000000000001|        1|\n",
      "|      29|           1.0|electric vehicle ...|                0.08|                 0.425|        1|\n",
      "|      65|           1.0|   i dont think a...|-0.06944444444444443|    0.5555555555555555|       -1|\n",
      "|      19|           2.0|beijings subsidy ...|                 0.0|                   0.1|        0|\n",
      "|      54|           1.0|heres another goo...|  0.2333333333333333|    0.3666666666666667|        1|\n",
      "|       0|           0.0| european fast ch...| 0.13333333333333333|   0.39999999999999997|        1|\n",
      "|      22|           3.0|mustang mache gal...|                 0.0|                   0.0|        0|\n",
      "|       7|           1.0| evs ampsupport s...|                 0.8|                   1.0|        1|\n",
      "|      77|           0.0|some great evs on...|                 0.8|                  0.75|        1|\n",
      "|      34|           2.0|cas  billion elec...|-0.15555555555555559|    0.2888888888888889|       -1|\n",
      "|      50|           0.0|i feel like we ar...| 0.19047619047619047|    0.3988095238095238|        1|\n",
      "|      94|           4.0|hi   please can y...|-0.08333333333333331|    0.6833333333333332|       -1|\n",
      "|      57|           0.0|great to have our...|                 0.8|                  0.75|        1|\n",
      "|      32|           0.0|today volvo ceo s...| 0.11666666666666665|   0.33888888888888885|        1|\n",
      "|      43|           5.0|test drive electr...|                 0.0|                   0.0|        0|\n",
      "|      84|           0.0|jay leno makes bo...| 0.41111111111111115|    0.7555555555555555|        1|\n",
      "|      31|           4.0|behind the quiet ...|                -0.2|    0.5166666666666666|       -1|\n",
      "|      39|           2.0|so is this the br...|-0.08333333333333333|    0.4444444444444444|       -1|\n",
      "|      98|           2.0|new car day  toda...| 0.13636363636363635|   0.45454545454545453|        1|\n",
      "|      25|           0.0|news story chinas...|                 0.0|                  0.75|        0|\n",
      "+--------+--------------+--------------------+--------------------+----------------------+---------+\n",
      "only showing top 20 rows\n",
      "\n"
     ]
    }
   ],
   "source": [
    "from pyspark.sql.functions import when\n",
    "\n",
    "df3 = join.withColumn(\"Sentiment\", when(join.sentiment_polarity > 0, 1).when(join.sentiment_polarity < 0, -1).otherwise(0))\n",
    "df3.show()"
   ]
  },
  {
   "cell_type": "code",
   "execution_count": 44,
   "id": "4db999d0",
   "metadata": {},
   "outputs": [
    {
     "name": "stderr",
     "output_type": "stream",
     "text": [
      "21/12/10 11:52:55 WARN WindowExec: No Partition Defined for Window operation! Moving all data to a single partition, this can cause serious performance degradation.\n",
      "[Stage 62:====================================================> (193 + 1) / 200]\r"
     ]
    },
    {
     "name": "stdout",
     "output_type": "stream",
     "text": [
      "+--------------+-----+\n",
      "|Dominant_Topic|count|\n",
      "+--------------+-----+\n",
      "|           0.0|   21|\n",
      "|           1.0|   16|\n",
      "|           2.0|   28|\n",
      "|           3.0|   10|\n",
      "|           4.0|   10|\n",
      "|           5.0|   15|\n",
      "+--------------+-----+\n",
      "\n"
     ]
    },
    {
     "name": "stderr",
     "output_type": "stream",
     "text": [
      "\r",
      "[Stage 63:===================================================>  (190 + 1) / 200]\r",
      "\r",
      "                                                                                \r"
     ]
    }
   ],
   "source": [
    "ll = df3.groupBy(\"Dominant_Topic\").count()\n",
    "ll = ll.orderBy(col(\"Dominant_Topic\").asc())\n",
    "ll.show()"
   ]
  },
  {
   "cell_type": "code",
   "execution_count": 45,
   "id": "f90b090c",
   "metadata": {},
   "outputs": [
    {
     "name": "stderr",
     "output_type": "stream",
     "text": [
      "21/12/10 11:53:06 WARN WindowExec: No Partition Defined for Window operation! Moving all data to a single partition, this can cause serious performance degradation.\n",
      "                                                                                \r"
     ]
    },
    {
     "name": "stdout",
     "output_type": "stream",
     "text": [
      "100\n"
     ]
    },
    {
     "data": {
      "image/png": "[encoded data removed]",
      "text/plain": [
       "<Figure size 432x288 with 1 Axes>"
      ]
     },
     "metadata": {},
     "output_type": "display_data"
    }
   ],
   "source": [
    "import matplotlib.pyplot as plt\n",
    "\n",
    "labels = ['Price','Range','Fuel','Ecofriendly','Battery','Infrastructure']\n",
    "listValues = list(ll.select('count').toPandas()['count'])\n",
    "sum = 0\n",
    "for item in listValues:\n",
    "   sum += item\n",
    "    \n",
    "print(sum)\n",
    "\n",
    "listValues = [(number / sum)*100 for number in listValues]\n",
    "\n",
    "fig1, ax1 = plt.subplots()\n",
    "ax1.pie(listValues, labels=labels ,autopct='%1.1f%%',shadow=True, startangle=90)\n",
    "ax1.axis('equal')  \n",
    "\n",
    "plt.show()"
   ]
  },
  {
   "cell_type": "code",
   "execution_count": 46,
   "id": "718c534e",
   "metadata": {},
   "outputs": [
    {
     "name": "stderr",
     "output_type": "stream",
     "text": [
      "21/12/10 11:53:19 WARN WindowExec: No Partition Defined for Window operation! Moving all data to a single partition, this can cause serious performance degradation.\n",
      "[Stage 82:=====================================================>(198 + 1) / 200]\r"
     ]
    },
    {
     "name": "stdout",
     "output_type": "stream",
     "text": [
      "+--------------+---------+-----+\n",
      "|Dominant_Topic|Sentiment|count|\n",
      "+--------------+---------+-----+\n",
      "|           0.0|        1|   13|\n",
      "|           0.0|        0|    8|\n",
      "|           1.0|       -1|    3|\n",
      "|           1.0|        0|    6|\n",
      "|           1.0|        1|    7|\n",
      "|           2.0|        0|   11|\n",
      "|           2.0|        1|   13|\n",
      "|           2.0|       -1|    4|\n",
      "|           3.0|       -1|    1|\n",
      "|           3.0|        0|    3|\n",
      "|           3.0|        1|    6|\n",
      "|           4.0|        0|    5|\n",
      "|           4.0|        1|    3|\n",
      "|           4.0|       -1|    2|\n",
      "|           5.0|       -1|    1|\n",
      "|           5.0|        1|    7|\n",
      "|           5.0|        0|    7|\n",
      "+--------------+---------+-----+\n",
      "\n"
     ]
    },
    {
     "name": "stderr",
     "output_type": "stream",
     "text": [
      "\r",
      "                                                                                \r"
     ]
    }
   ],
   "source": [
    "ll = df3.groupBy(\"Dominant_Topic\",\"Sentiment\").count()\n",
    "ll = ll.orderBy(col(\"Dominant_Topic\").asc())\n",
    "ll = ll.orderBy(col(\"Dominant_Topic\").asc())\n",
    "ll.show()"
   ]
  },
  {
   "cell_type": "code",
   "execution_count": null,
   "id": "20493eee",
   "metadata": {},
   "outputs": [],
   "source": []
  }
 ],
 "metadata": {
  "kernelspec": {
   "display_name": "Python 3 (ipykernel)",
   "language": "python",
   "name": "python3"
  },
  "language_info": {
   "codemirror_mode": {
    "name": "ipython",
    "version": 3
   },
   "file_extension": ".py",
   "mimetype": "text/x-python",
   "name": "python",
   "nbconvert_exporter": "python",
   "pygments_lexer": "ipython3",
   "version": "3.8.10"
  }
 },
 "nbformat": 4,
 "nbformat_minor": 5
}
