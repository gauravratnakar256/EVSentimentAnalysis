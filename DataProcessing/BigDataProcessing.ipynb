{
 "cells": [
  {
   "cell_type": "code",
   "execution_count": 1,
   "id": "e57d0017",
   "metadata": {},
   "outputs": [],
   "source": [
    "import pandas as pd\n",
    "import pyspark\n",
    "from pyspark import SparkContext\n",
    "from pyspark.sql import SparkSession\n",
    "from pyspark.sql import SQLContext\n",
    "#sqlContext = SQLContext(sc)\n",
    "from nltk.corpus import stopwords\n",
    "import re as re\n",
    "from pyspark.ml.feature import CountVectorizer , IDF\n",
    "from pyspark.mllib.linalg import Vector, Vectors\n",
    "#from pyspark.mllib.clustering import LDA, LDAModel\n",
    "from pyspark.ml.clustering import LDA, LDAModel\n",
    "import nltk\n",
    "import numpy as np\n",
    "from pyspark.sql import functions as F\n",
    "from pyspark.sql.functions import size\n",
    "from pyspark.sql.functions import udf, col\n",
    "from pyspark.ml.feature import Tokenizer\n",
    "from pyspark.sql.functions import udf, struct\n",
    "import pyspark.sql.types as T \n",
    "import string\n",
    "import nltk\n",
    "from pyspark.sql import Row\n",
    "\n",
    "import os\n",
    "import sys\n",
    "from pyspark.sql import SparkSession\n",
    "\n"
   ]
  },
  {
   "cell_type": "code",
   "execution_count": 2,
   "id": "c6174cb6",
   "metadata": {},
   "outputs": [],
   "source": [
    "os.environ['PYSPARK_PYTHON'] = sys.executable\n",
    "os.environ['PYSPARK_DRIVER_PYTHON'] = sys.executable\n",
    "spark =SparkSession.builder.master(\"local[1]\").appName('SparkProject').getOrCreate() "
   ]
  },
  {
   "cell_type": "code",
   "execution_count": 3,
   "id": "45b3c4b1",
   "metadata": {},
   "outputs": [],
   "source": [
    "#data  = spark.read.json(r\"C:\\Users\\EndUser\\Desktop\\Data\\AbhishekData\\tweets.json\")\n",
    "#df = spark.read.json(\"tweets2.csv\")\n",
    "df = spark.read.json(r\"C:\\Users\\EndUser\\Desktop\\Data\\AbhishekData\\tweets90.json\")"
   ]
  },
  {
   "cell_type": "code",
   "execution_count": 4,
   "id": "6550ec49",
   "metadata": {},
   "outputs": [
    {
     "data": {
      "text/plain": [
       "Row(content='.@VW will introduce heads-up display with augmented-reality in its upcoming #EVs. https://t.co/CINqosgiCD', date='2017-01-31T23:49:34+00:00', latitude=None, longitude=None, tweetid=826578200402616320, userid=1187313746, userlocation='')"
      ]
     },
     "execution_count": 4,
     "metadata": {},
     "output_type": "execute_result"
    }
   ],
   "source": [
    "df.head()"
   ]
  },
  {
   "cell_type": "code",
   "execution_count": 5,
   "id": "8de28195",
   "metadata": {},
   "outputs": [],
   "source": [
    "df = df.dropDuplicates(['tweetid'])\n",
    "df = df.na.drop()\n",
    "df = df.filter(\"content != ''\")"
   ]
  },
  {
   "cell_type": "code",
   "execution_count": 6,
   "id": "bce3d734",
   "metadata": {},
   "outputs": [],
   "source": [
    "def remove_emoji(string):\n",
    "    emoji_pattern = re.compile(\"[\"\n",
    "                           u\"\\U0001F600-\\U0001F64F\"  # emoticons\n",
    "                           u\"\\U0001F300-\\U0001F5FF\"  # symbols & pictographs\n",
    "                           u\"\\U0001F680-\\U0001F6FF\"  # transport & map symbols\n",
    "                           u\"\\U0001F1E0-\\U0001F1FF\"  # flags (iOS)\n",
    "                           u\"\\U00002702-\\U000027B0\"\n",
    "                           u\"\\U000024C2-\\U0001F251\"\n",
    "                           \"]+\", flags=re.UNICODE)\n",
    "    return emoji_pattern.sub(r'', string)\n",
    "\n",
    "def remove_number(tweet):\n",
    "    tweet = re.sub('([0-9]+)', '', tweet) \n",
    "    return tweet\n",
    "\n",
    "def remove_users(tweet):\n",
    "    tweet = re.sub('(RT\\s@[A-Za-z]+[A-Za-z0-9-_]+)', '', tweet) \n",
    "    tweet = re.sub('(@[A-Za-z]+[A-Za-z0-9-_]+)', '', tweet) \n",
    "    return tweet"
   ]
  },
  {
   "cell_type": "code",
   "execution_count": 7,
   "id": "90dcef85",
   "metadata": {},
   "outputs": [],
   "source": [
    "from pyspark.sql.types import StringType\n",
    "\n",
    "remove_emoji=udf(remove_emoji)\n",
    "remove_users=udf(remove_users)\n",
    "remove_number=udf(remove_number)\n",
    "\n",
    "df=df.withColumn('content', remove_emoji(df['content']))\n",
    "df=df.withColumn('content', remove_users(df['content']))\n",
    "df=df.withColumn('content', remove_number(df['content']))"
   ]
  },
  {
   "cell_type": "code",
   "execution_count": 8,
   "id": "6d39bd0a",
   "metadata": {},
   "outputs": [],
   "source": [
    "\n",
    "df = df.withColumn('content', F.regexp_replace('content', r'http\\S+', ''))\n",
    "df = df.withColumn('content', F.regexp_replace('content', '@\\w+', ''))\n",
    "df = df.withColumn('content', F.regexp_replace('content', '#', ''))\n",
    "df = df.withColumn('content', F.regexp_replace('content', 'RT', ''))\n",
    "df = df.withColumn('content', F.regexp_replace('content', ':', ''))\n",
    "df = df.withColumn('content', F.regexp_replace('content', '\\n', ''))\n",
    "df = df.withColumn('content', F.regexp_replace('content', '|', ''))\n",
    "df = df.withColumn('content', F.regexp_replace('content', '[^\\sa-zA-Z0-9]', ''))\n",
    "df = df.withColumn(\"content\",F.lower('content'))\n",
    "df = df.withColumn(\"content\",F.rtrim('content'))"
   ]
  },
  {
   "cell_type": "code",
   "execution_count": 9,
   "id": "ae5bbbc0",
   "metadata": {},
   "outputs": [
    {
     "data": {
      "text/plain": [
       "Row(content='evs  continued to grow rapidly  in  while lithiumion battery prices decline  automobiles renewables', date='2017-01-01T16:03:50+00:00', latitude=18.845343, longitude=72.74484, tweetid=815589355829854208, userid=14158133, userlocation='mumbai')"
      ]
     },
     "execution_count": 9,
     "metadata": {},
     "output_type": "execute_result"
    }
   ],
   "source": [
    "df.head()"
   ]
  },
  {
   "cell_type": "code",
   "execution_count": 10,
   "id": "e0f75d49",
   "metadata": {
    "scrolled": true
   },
   "outputs": [],
   "source": []
  },
  {
   "cell_type": "code",
   "execution_count": 11,
   "id": "c691dfd9",
   "metadata": {},
   "outputs": [],
   "source": []
  },
  {
   "cell_type": "code",
   "execution_count": null,
   "id": "c1b7bfed",
   "metadata": {},
   "outputs": [],
   "source": []
  },
  {
   "cell_type": "code",
   "execution_count": null,
   "id": "b483f6bb",
   "metadata": {},
   "outputs": [],
   "source": []
  },
  {
   "cell_type": "code",
   "execution_count": null,
   "id": "5f1a7320",
   "metadata": {},
   "outputs": [],
   "source": []
  }
 ],
 "metadata": {
  "kernelspec": {
   "display_name": "Python 3 (ipykernel)",
   "language": "python",
   "name": "python3"
  },
  "language_info": {
   "codemirror_mode": {
    "name": "ipython",
    "version": 3
   },
   "file_extension": ".py",
   "mimetype": "text/x-python",
   "name": "python",
   "nbconvert_exporter": "python",
   "pygments_lexer": "ipython3",
   "version": "3.9.5"
  }
 },
 "nbformat": 4,
 "nbformat_minor": 5
}
